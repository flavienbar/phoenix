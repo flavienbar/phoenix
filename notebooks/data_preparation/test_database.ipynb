{
 "cells": [
  {
   "cell_type": "code",
   "execution_count": 26,
   "metadata": {},
   "outputs": [],
   "source": [
    "import os\n",
    "import yaml\n",
    "\n",
    "import findspark\n",
    "findspark.init()\n",
    "\n",
    "from pyspark.sql import SparkSession\n",
    "from pyspark.sql import SparkSession\n",
    "from pyspark.sql.types import StructType, StructField, StringType, DoubleType, BooleanType, IntegerType, TimestampType\n",
    "\n",
    "import random\n",
    "from datetime import datetime, timedelta"
   ]
  },
  {
   "cell_type": "code",
   "execution_count": 21,
   "metadata": {},
   "outputs": [],
   "source": [
    "# Open the YAML file and load its contents into a dictionary\n",
    "with open('../../../references/config_notebook.yaml', 'r') as f:\n",
    "    config = yaml.safe_load(f)\n",
    "\n",
    "# Access the variables in the dictionary\n",
    "my_vars = config"
   ]
  },
  {
   "cell_type": "code",
   "execution_count": 22,
   "metadata": {},
   "outputs": [],
   "source": [
    "# Data location\n",
    "source_folder_path = my_vars['TEST']"
   ]
  },
  {
   "cell_type": "code",
   "execution_count": 3,
   "metadata": {},
   "outputs": [
    {
     "name": "stderr",
     "output_type": "stream",
     "text": [
      "24/05/01 20:03:49 WARN Utils: Your hostname, skynet resolves to a loopback address: 127.0.1.1; using 192.168.1.12 instead (on interface wlp2s0)\n",
      "24/05/01 20:03:49 WARN Utils: Set SPARK_LOCAL_IP if you need to bind to another address\n",
      "Using Spark's default log4j profile: org/apache/spark/log4j-defaults.properties\n",
      "Setting default log level to \"WARN\".\n",
      "To adjust logging level use sc.setLogLevel(newLevel). For SparkR, use setLogLevel(newLevel).\n",
      "24/05/01 20:03:50 WARN NativeCodeLoader: Unable to load native-hadoop library for your platform... using builtin-java classes where applicable\n",
      "24/05/01 20:03:51 WARN Utils: Service 'SparkUI' could not bind on port 4040. Attempting port 4041.\n"
     ]
    }
   ],
   "source": [
    "# Initialize Spark session\n",
    "spark = SparkSession.builder \\\n",
    "    .appName(\"create_dataframe_test\") \\\n",
    "    .getOrCreate()"
   ]
  },
  {
   "cell_type": "code",
   "execution_count": 49,
   "metadata": {},
   "outputs": [],
   "source": [
    "# Define schema for the DataFrame\n",
    "schema = StructType([\n",
    "    StructField(\"id\", StringType(), True),\n",
    "    StructField(\"price\", DoubleType(), True),\n",
    "    StructField(\"qty\", DoubleType(), True),\n",
    "    StructField(\"quoteQty\", DoubleType(), True),\n",
    "    StructField(\"timestamp\", TimestampType(), True),\n",
    "    StructField(\"makerBuy\", BooleanType(), True),\n",
    "    StructField(\"bestPrice\", BooleanType(), True),\n",
    "    StructField(\"zipname\", IntegerType(), True),\n",
    "        ])\n",
    "\n",
    "# Define data\n",
    "data = [ \n",
    "    ('3061645923',27261.06,0.00156,  42.5272536,None,    True, True,20230329),\n",
    "    ('3061645924',27261.06, 8.2E-4,  22.3540692,None,    True, True,20230329),\n",
    "    ('3061645925',27261.07, 0.0034,   92.687638,None,   False, True,20230329),\n",
    "    ('3061645926',27261.06,0.00436, 118.8582216,None,    True, True,20230329),\n",
    "    ('3061645927',27261.06,0.00151,  41.1642006,None,    True, True,20230329),\n",
    "    ('3061645928',27261.07,0.00467, 127.3091969,None,   False, True,20230329),\n",
    "    ('3061645929',27261.07,0.00197,  53.7043079,None,   False, True,20230329),\n",
    "    ('3061645930',27261.06,0.00277,  75.5131362,None,    True, True,20230329),\n",
    "    ('3061645931',27261.07,0.00207,  56.4304149,None,   False, True,20230329),\n",
    "    ('3061645932',27261.06,0.00952, 259.5252912,None,    True, True,20230329),\n",
    "    ('3061645933',27261.06,0.00222,  60.5195532,None,    True, True,20230329),\n",
    "    ('3061645934',27261.07,0.00299,  81.5105993,None,   False, True,20230330),\n",
    "    ('3061645935',27261.07,0.15165,4134.1412655,None,   False, True,20230330),\n",
    "    ('3061645936',27261.07,0.11999,3271.0557893,None,   False, True,20230330),\n",
    "    ('3061645937',27261.07,  0.007,   190.82749,None,   False, True,20230330),\n",
    "    ('3061645938',27261.07,0.05673,1546.5205011,None,   False, True,20230330),\n",
    "    ('3061645939',27261.07,0.00627, 170.9269089,None,   False, True,20230330),\n",
    "    ('3061645940',27261.07,0.07153,1949.9843371,None,   False, True,20230330),\n",
    "    ('3061645941',27261.07, 3.7E-4,  10.0865959,None,   False, True,20230330),\n",
    "    ('3061645942',27261.07,0.00239,  65.1539573,None,   False, True,20230330)\n",
    "    ]"
   ]
  },
  {
   "cell_type": "code",
   "execution_count": 53,
   "metadata": {},
   "outputs": [],
   "source": [
    "# Sort the data by zipname\n",
    "data.sort(key=lambda x: x[-1])\n",
    "\n",
    "# Define start and end times\n",
    "start_time = datetime.strptime('00:00:00', '%H:%M:%S')\n",
    "end_time = datetime.strptime('23:59:59', '%H:%M:%S')\n",
    "\n",
    "# Generate random times within the range, adjusting hours, minutes, and seconds based on zipname\n",
    "modified_data = []\n",
    "previous_date = None\n",
    "for row in data:\n",
    "    zipname = row[-1]\n",
    "    random_hour = random.randint(0, 23)\n",
    "    random_minute = random.randint(0, 59)\n",
    "    random_second = random.randint(0, 59)\n",
    "    random_time = datetime(year=int(str(zipname)[:4]), month=int(str(zipname)[4:6]), day=int(str(zipname)[6:8]),\n",
    "                            hour=random_hour, minute=random_minute, second=random_second)\n",
    "    # Ensure the time is greater than the previous date\n",
    "    if previous_date is not None and random_time < previous_date:\n",
    "        random_time = previous_date + timedelta(seconds=random.randint(1, 60))\n",
    "    row_with_time = row[:4] + (random_time,) + row[5:]\n",
    "    modified_data.append(row_with_time)\n",
    "    previous_date = random_time\n"
   ]
  },
  {
   "cell_type": "code",
   "execution_count": 54,
   "metadata": {},
   "outputs": [],
   "source": [
    "# Create DataFrame\n",
    "df = spark.createDataFrame(modified_data, schema)"
   ]
  },
  {
   "cell_type": "code",
   "execution_count": 23,
   "metadata": {},
   "outputs": [],
   "source": [
    "# Define output path for the Parquet file\n",
    "output_path = '/home/giujorge/Downloads/test/BTCUSDT_dollars_test.parquet'"
   ]
  },
  {
   "cell_type": "code",
   "execution_count": 56,
   "metadata": {},
   "outputs": [],
   "source": [
    "\n",
    "# Write DataFrame to Parquet file\n",
    "df.repartition(1).write \\\n",
    "            .partitionBy(\"zipname\") \\\n",
    "            .mode(\"append\") \\\n",
    "            .option(\"compression\", \"gzip\") \\\n",
    "            .option(\"blockSize\", \"256m\") \\\n",
    "            .parquet(output_path)\n"
   ]
  },
  {
   "cell_type": "code",
   "execution_count": 55,
   "metadata": {},
   "outputs": [
    {
     "name": "stdout",
     "output_type": "stream",
     "text": [
      "+----------+--------+-------+------------+-------------------+--------+---------+--------+\n",
      "|        id|   price|    qty|    quoteQty|          timestamp|makerBuy|bestPrice| zipname|\n",
      "+----------+--------+-------+------------+-------------------+--------+---------+--------+\n",
      "|3061645923|27261.06|0.00156|  42.5272536|2023-03-29 09:00:41|    true|     true|20230329|\n",
      "|3061645924|27261.06| 8.2E-4|  22.3540692|2023-03-29 20:01:06|    true|     true|20230329|\n",
      "|3061645925|27261.07| 0.0034|   92.687638|2023-03-29 20:01:17|   false|     true|20230329|\n",
      "|3061645926|27261.06|0.00436| 118.8582216|2023-03-29 20:02:12|    true|     true|20230329|\n",
      "|3061645927|27261.06|0.00151|  41.1642006|2023-03-29 20:03:01|    true|     true|20230329|\n",
      "|3061645928|27261.07|0.00467| 127.3091969|2023-03-29 20:03:26|   false|     true|20230329|\n",
      "|3061645929|27261.07|0.00197|  53.7043079|2023-03-29 20:03:36|   false|     true|20230329|\n",
      "|3061645930|27261.06|0.00277|  75.5131362|2023-03-29 20:03:42|    true|     true|20230329|\n",
      "|3061645931|27261.07|0.00207|  56.4304149|2023-03-29 20:03:54|   false|     true|20230329|\n",
      "|3061645932|27261.06|0.00952| 259.5252912|2023-03-29 20:04:37|    true|     true|20230329|\n",
      "|3061645933|27261.06|0.00222|  60.5195532|2023-03-29 20:05:05|    true|     true|20230329|\n",
      "|3061645934|27261.07|0.00299|  81.5105993|2023-03-30 20:41:50|   false|     true|20230330|\n",
      "|3061645935|27261.07|0.15165|4134.1412655|2023-03-30 20:42:12|   false|     true|20230330|\n",
      "|3061645936|27261.07|0.11999|3271.0557893|2023-03-30 20:42:59|   false|     true|20230330|\n",
      "|3061645937|27261.07|  0.007|   190.82749|2023-03-30 20:43:58|   false|     true|20230330|\n",
      "|3061645938|27261.07|0.05673|1546.5205011|2023-03-30 20:44:43|   false|     true|20230330|\n",
      "|3061645939|27261.07|0.00627| 170.9269089|2023-03-30 20:44:46|   false|     true|20230330|\n",
      "|3061645940|27261.07|0.07153|1949.9843371|2023-03-30 20:45:21|   false|     true|20230330|\n",
      "|3061645941|27261.07| 3.7E-4|  10.0865959|2023-03-30 20:45:51|   false|     true|20230330|\n",
      "|3061645942|27261.07|0.00239|  65.1539573|2023-03-30 20:46:49|   false|     true|20230330|\n",
      "+----------+--------+-------+------------+-------------------+--------+---------+--------+\n",
      "\n"
     ]
    }
   ],
   "source": [
    "# Show DataFrame\n",
    "df.show()"
   ]
  },
  {
   "cell_type": "code",
   "execution_count": null,
   "metadata": {},
   "outputs": [],
   "source": [
    "# Stop Spark session\n",
    "spark.stop()"
   ]
  },
  {
   "cell_type": "code",
   "execution_count": null,
   "metadata": {},
   "outputs": [],
   "source": []
  },
  {
   "cell_type": "code",
   "execution_count": null,
   "metadata": {},
   "outputs": [],
   "source": []
  }
 ],
 "metadata": {
  "kernelspec": {
   "display_name": "phoenix",
   "language": "python",
   "name": "python3"
  },
  "language_info": {
   "codemirror_mode": {
    "name": "ipython",
    "version": 3
   },
   "file_extension": ".py",
   "mimetype": "text/x-python",
   "name": "python",
   "nbconvert_exporter": "python",
   "pygments_lexer": "ipython3",
   "version": "3.9.18"
  }
 },
 "nbformat": 4,
 "nbformat_minor": 2
}
